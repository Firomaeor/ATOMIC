{
 "cells": [
  {
   "cell_type": "code",
   "id": "initial_id",
   "metadata": {
    "collapsed": true,
    "ExecuteTime": {
     "end_time": "2024-08-02T10:56:21.473896Z",
     "start_time": "2024-08-02T10:56:21.470786Z"
    }
   },
   "source": [
    "import json\n",
    "import os\n",
    "import shutil\n",
    "\n",
    "from src.LogicState import LogicState\n",
    "from src.PWMWriter import PWMWriter\n",
    "from src.Simulator import Simulator\n",
    "from src.Plotter import Plotter\n",
    "\n",
    "#config_file = \"./configs/Serial_exact.json\" \n",
    "config_file = \"./configs/SIAFA1.json\"\n",
    "\n",
    "with open(config_file) as f:\n",
    "    config = json.load(f)"
   ],
   "outputs": [],
   "execution_count": 5
  },
  {
   "metadata": {},
   "cell_type": "markdown",
   "source": "",
   "id": "8fe7517d32fd8499"
  },
  {
   "metadata": {
    "ExecuteTime": {
     "end_time": "2024-08-02T10:56:21.484805Z",
     "start_time": "2024-08-02T10:56:21.481041Z"
    }
   },
   "cell_type": "code",
   "source": [
    "# Check if the algorithm is valid and the resulting states are correct\n",
    "LS = LogicState(config)\n",
    "LS.calc_algorithm(plot_tt=True)\n",
    "print(\"\\n\\n--------------- Logic States verified! ---------------\\n\")"
   ],
   "id": "b2e9d8323870064c",
   "outputs": [
    {
     "name": "stdout",
     "output_type": "stream",
     "text": [
      "#####################################\n",
      "State Num: ['F[w1]']\n",
      "a | b | c | w1|\n",
      "--------------------\n",
      "0 | 0 | 0 | 0\n",
      "0 | 0 | 1 | 0\n",
      "0 | 1 | 0 | 0\n",
      "0 | 1 | 1 | 0\n",
      "1 | 0 | 0 | 0\n",
      "1 | 0 | 1 | 0\n",
      "1 | 1 | 0 | 0\n",
      "1 | 1 | 1 | 0\n",
      "#####################################\n",
      "#####################################\n",
      "State Num: ['F[w1]', 'I[a,w1]']\n",
      "a | b | c | w1|\n",
      "--------------------\n",
      "0 | 0 | 0 | 1\n",
      "0 | 0 | 1 | 1\n",
      "0 | 1 | 0 | 1\n",
      "0 | 1 | 1 | 1\n",
      "1 | 0 | 0 | 0\n",
      "1 | 0 | 1 | 0\n",
      "1 | 1 | 0 | 0\n",
      "1 | 1 | 1 | 0\n",
      "#####################################\n",
      "#####################################\n",
      "State Num: ['F[w1]', 'I[a,w1]', 'F[a]']\n",
      "a | b | c | w1|\n",
      "--------------------\n",
      "0 | 0 | 0 | 1\n",
      "0 | 0 | 1 | 1\n",
      "0 | 1 | 0 | 1\n",
      "0 | 1 | 1 | 1\n",
      "0 | 0 | 0 | 0\n",
      "0 | 0 | 1 | 0\n",
      "0 | 1 | 0 | 0\n",
      "0 | 1 | 1 | 0\n",
      "#####################################\n",
      "#####################################\n",
      "State Num: ['F[w1]', 'I[a,w1]', 'F[a]', 'I[b,a]']\n",
      "a | b | c | w1|\n",
      "--------------------\n",
      "1 | 0 | 0 | 1\n",
      "1 | 0 | 1 | 1\n",
      "0 | 1 | 0 | 1\n",
      "0 | 1 | 1 | 1\n",
      "1 | 0 | 0 | 0\n",
      "1 | 0 | 1 | 0\n",
      "0 | 1 | 0 | 0\n",
      "0 | 1 | 1 | 0\n",
      "#####################################\n",
      "#####################################\n",
      "State Num: ['F[w1]', 'I[a,w1]', 'F[a]', 'I[b,a]', 'I[w1,c]']\n",
      "a | b | c | w1|\n",
      "--------------------\n",
      "1 | 0 | 0 | 1\n",
      "1 | 0 | 1 | 1\n",
      "0 | 1 | 0 | 1\n",
      "0 | 1 | 1 | 1\n",
      "1 | 0 | 1 | 0\n",
      "1 | 0 | 1 | 0\n",
      "0 | 1 | 1 | 0\n",
      "0 | 1 | 1 | 0\n",
      "#####################################\n",
      "#####################################\n",
      "State Num: ['F[w1]', 'I[a,w1]', 'F[a]', 'I[b,a]', 'I[w1,c]', 'I[c,a]']\n",
      "a | b | c | w1|\n",
      "--------------------\n",
      "1 | 0 | 0 | 1\n",
      "1 | 0 | 1 | 1\n",
      "1 | 1 | 0 | 1\n",
      "0 | 1 | 1 | 1\n",
      "1 | 0 | 1 | 0\n",
      "1 | 0 | 1 | 0\n",
      "0 | 1 | 1 | 0\n",
      "0 | 1 | 1 | 0\n",
      "#####################################\n",
      "#####################################\n",
      "State Num: ['F[w1]', 'I[a,w1]', 'F[a]', 'I[b,a]', 'I[w1,c]', 'I[c,a]', 'F[c]']\n",
      "a | b | c | w1|\n",
      "--------------------\n",
      "1 | 0 | 0 | 1\n",
      "1 | 0 | 0 | 1\n",
      "1 | 1 | 0 | 1\n",
      "0 | 1 | 0 | 1\n",
      "1 | 0 | 0 | 0\n",
      "1 | 0 | 0 | 0\n",
      "0 | 1 | 0 | 0\n",
      "0 | 1 | 0 | 0\n",
      "#####################################\n",
      "#####################################\n",
      "State Num: ['F[w1]', 'I[a,w1]', 'F[a]', 'I[b,a]', 'I[w1,c]', 'I[c,a]', 'F[c]', 'I[a,c]']\n",
      "a | b | c | w1|\n",
      "--------------------\n",
      "1 | 0 | 0 | 1\n",
      "1 | 0 | 0 | 1\n",
      "1 | 1 | 0 | 1\n",
      "0 | 1 | 1 | 1\n",
      "1 | 0 | 0 | 0\n",
      "1 | 0 | 0 | 0\n",
      "0 | 1 | 1 | 0\n",
      "0 | 1 | 1 | 0\n",
      "#####################################\n",
      "Output sum is correctly stored in a\n",
      "Output cout is correctly stored in c\n",
      "\n",
      "\n",
      "--------------- Logic States verified! ---------------\n",
      "\n"
     ]
    }
   ],
   "execution_count": 6
  },
  {
   "metadata": {
    "ExecuteTime": {
     "end_time": "2024-08-02T10:56:21.505712Z",
     "start_time": "2024-08-02T10:56:21.485727Z"
    }
   },
   "cell_type": "code",
   "source": [
    "# Automatically create PWM signals and store them in \"PWM_output\"\n",
    "PWM = PWMWriter(config)\n",
    "PWM.eval_algo()\n",
    "print(\"\\n\\n--------------- PWM Signals created! ---------------\\n\")\n",
    "\n",
    "# Copy the files to the folder of the corresponding topology (This removes the old files !)\n",
    "for file in os.listdir(f\"./Structures/{config[\"topology\"]}\"):\n",
    "    if file.endswith(\".csv\"):\n",
    "        if os.path.exists(f\"./outputs/PWM_output/{file}\"):\n",
    "            os.remove(f\"./Structures/{config[\"topology\"]}/{file}\")\n",
    "            shutil.copy(f\"./outputs/PWM_output/{file}\", f\"./Structures/{config[\"topology\"]}/{file}\")\n",
    "        else:\n",
    "            with open(f\"./Structures/{config[\"topology\"]}/{file}\", \"w\") as f:\n",
    "                if 'sw' in f.name.split('/')[-1]:\n",
    "                    f.write(f\"0,-100\\n{config[\"cycle_time\"]*(config[\"steps\"]+1)},-100\")\n",
    "                else:\n",
    "                    f.write(f\"0,0\\n{config[\"cycle_time\"]*(config[\"steps\"]+1)},0\")\n",
    "\n",
    "print(f\"\\n\\n--------- Files of {config[\"topology\"]} overwritten! --------\\n\")"
   ],
   "id": "e8ba42eef8dfeb95",
   "outputs": [
    {
     "name": "stdout",
     "output_type": "stream",
     "text": [
      "File ./outputs/PWM_output/a.csv created!\n",
      "File ./outputs/PWM_output/b.csv created!\n",
      "File ./outputs/PWM_output/c.csv created!\n",
      "File ./outputs/PWM_output/w1.csv created!\n",
      "File ./outputs/PWM_output/a_sw.csv created!\n",
      "File ./outputs/PWM_output/b_sw.csv created!\n",
      "File ./outputs/PWM_output/c_sw.csv created!\n",
      "File ./outputs/PWM_output/w1_sw.csv created!\n",
      "Files written successfully\n",
      "\n",
      "\n",
      "--------------- PWM Signals created! ---------------\n",
      "\n",
      "\n",
      "\n",
      "--------- Files of Serial overwritten! --------\n",
      "\n"
     ]
    }
   ],
   "execution_count": 7
  },
  {
   "metadata": {
    "ExecuteTime": {
     "end_time": "2024-08-02T11:00:04.037801Z",
     "start_time": "2024-08-02T10:56:21.505712Z"
    }
   },
   "cell_type": "code",
   "source": [
    "PLT = Plotter(config)\n",
    "# recompute has to be set True if the deviation range has not be computed yet\n",
    "\n",
    "# Plot the resulting output states over increasing deviation ranges\n",
    "PLT.plot_deviation_scatter(max_dev=50, recompute=True)\n",
    "PLT.plot_deviation_range(max_dev=50, recompute=False)\n",
    "# TODO: Fix for other topologies\n",
    "# Plot different waveforms of input combinations and deviations\n",
    "PLT.plot_waveforms_with_deviation(comb='011', dev=20, recompute=False)"
   ],
   "id": "bab0a186a5ab3f07",
   "outputs": [
    {
     "name": "stderr",
     "output_type": "stream",
     "text": [
      "100%|██████████| 8/8 [01:13<00:00,  9.18s/it]\n"
     ]
    },
    {
     "name": "stdout",
     "output_type": "stream",
     "text": [
      "Average energy consumption: 1.4509784999999998e-09\n"
     ]
    },
    {
     "name": "stderr",
     "output_type": "stream",
     "text": [
      "100%|██████████| 8/8 [01:13<00:00,  9.21s/it]\n"
     ]
    },
    {
     "name": "stdout",
     "output_type": "stream",
     "text": [
      "Average energy consumption: 1.4509785e-09\n"
     ]
    },
    {
     "name": "stderr",
     "output_type": "stream",
     "text": [
      "100%|██████████| 8/8 [01:13<00:00,  9.21s/it]\n"
     ]
    },
    {
     "name": "stdout",
     "output_type": "stream",
     "text": [
      "Average energy consumption: 1.4509785e-09\n"
     ]
    },
    {
     "data": {
      "text/plain": [
       "<Figure size 1200x400 with 2 Axes>"
      ],
      "image/png": "[encoded data removed]"
     },
     "metadata": {},
     "output_type": "display_data"
    },
    {
     "ename": "ValueError",
     "evalue": "setting an array element with a sequence. The requested array has an inhomogeneous shape after 1 dimensions. The detected shape was (2,) + inhomogeneous part.",
     "output_type": "error",
     "traceback": [
      "\u001B[1;31m---------------------------------------------------------------------------\u001B[0m",
      "\u001B[1;31mValueError\u001B[0m                                Traceback (most recent call last)",
      "Cell \u001B[1;32mIn[8], line 6\u001B[0m\n\u001B[0;32m      2\u001B[0m \u001B[38;5;66;03m# recompute has to be set True if the deviation range has not be computed yet\u001B[39;00m\n\u001B[0;32m      3\u001B[0m \n\u001B[0;32m      4\u001B[0m \u001B[38;5;66;03m# Plot the resulting output states over increasing deviation ranges\u001B[39;00m\n\u001B[0;32m      5\u001B[0m PLT\u001B[38;5;241m.\u001B[39mplot_deviation_scatter(max_dev\u001B[38;5;241m=\u001B[39m\u001B[38;5;241m10\u001B[39m, recompute\u001B[38;5;241m=\u001B[39m\u001B[38;5;28;01mTrue\u001B[39;00m)\n\u001B[1;32m----> 6\u001B[0m \u001B[43mPLT\u001B[49m\u001B[38;5;241;43m.\u001B[39;49m\u001B[43mplot_deviation_range\u001B[49m\u001B[43m(\u001B[49m\u001B[43mmax_dev\u001B[49m\u001B[38;5;241;43m=\u001B[39;49m\u001B[38;5;241;43m10\u001B[39;49m\u001B[43m,\u001B[49m\u001B[43m \u001B[49m\u001B[43mrecompute\u001B[49m\u001B[38;5;241;43m=\u001B[39;49m\u001B[38;5;28;43;01mFalse\u001B[39;49;00m\u001B[43m)\u001B[49m\n\u001B[0;32m      7\u001B[0m \u001B[38;5;66;03m# TODO: Fix for other topologies\u001B[39;00m\n\u001B[0;32m      8\u001B[0m \u001B[38;5;66;03m# Plot different waveforms of input combinations and deviations\u001B[39;00m\n\u001B[0;32m      9\u001B[0m PLT\u001B[38;5;241m.\u001B[39mplot_waveforms_with_deviation(comb\u001B[38;5;241m=\u001B[39m\u001B[38;5;124m'\u001B[39m\u001B[38;5;124m011\u001B[39m\u001B[38;5;124m'\u001B[39m, dev\u001B[38;5;241m=\u001B[39m\u001B[38;5;241m5\u001B[39m, recompute\u001B[38;5;241m=\u001B[39m\u001B[38;5;28;01mFalse\u001B[39;00m)\n",
      "File \u001B[1;32m~\\Desktop\\Paper in work\\[In Work] MASAM\\src\\Plotter.py:214\u001B[0m, in \u001B[0;36mPlotter.plot_deviation_range\u001B[1;34m(self, max_dev, recompute)\u001B[0m\n\u001B[0;32m    211\u001B[0m         \u001B[38;5;28;01melse\u001B[39;00m:\n\u001B[0;32m    212\u001B[0m             logic0_states[j]\u001B[38;5;241m.\u001B[39mappend([\u001B[38;5;28mmin\u001B[39m(dev_values[j]), \u001B[38;5;28mmax\u001B[39m(dev_values[j])])\n\u001B[1;32m--> 214\u001B[0m l1_array, l0_array \u001B[38;5;241m=\u001B[39m \u001B[43mnp\u001B[49m\u001B[38;5;241;43m.\u001B[39;49m\u001B[43marray\u001B[49m\u001B[43m(\u001B[49m\u001B[43mlogic1_states\u001B[49m\u001B[43m)\u001B[49m, np\u001B[38;5;241m.\u001B[39marray(logic0_states)\n\u001B[0;32m    215\u001B[0m l1_max, l1_min \u001B[38;5;241m=\u001B[39m np\u001B[38;5;241m.\u001B[39mmax(l1_array, axis\u001B[38;5;241m=\u001B[39m\u001B[38;5;241m1\u001B[39m)[:, \u001B[38;5;241m1\u001B[39m], np\u001B[38;5;241m.\u001B[39mmin(l1_array, axis\u001B[38;5;241m=\u001B[39m\u001B[38;5;241m1\u001B[39m)[:, \u001B[38;5;241m0\u001B[39m]\n\u001B[0;32m    216\u001B[0m l0_max, l0_min \u001B[38;5;241m=\u001B[39m np\u001B[38;5;241m.\u001B[39mmax(l0_array, axis\u001B[38;5;241m=\u001B[39m\u001B[38;5;241m1\u001B[39m)[:, \u001B[38;5;241m1\u001B[39m], np\u001B[38;5;241m.\u001B[39mmin(l0_array, axis\u001B[38;5;241m=\u001B[39m\u001B[38;5;241m1\u001B[39m)[:, \u001B[38;5;241m0\u001B[39m]\n",
      "\u001B[1;31mValueError\u001B[0m: setting an array element with a sequence. The requested array has an inhomogeneous shape after 1 dimensions. The detected shape was (2,) + inhomogeneous part."
     ]
    },
    {
     "data": {
      "text/plain": [
       "<Figure size 500x500 with 0 Axes>"
      ]
     },
     "metadata": {},
     "output_type": "display_data"
    }
   ],
   "execution_count": 8
  }
 ],
 "metadata": {
  "kernelspec": {
   "display_name": "Python 3",
   "language": "python",
   "name": "python3"
  },
  "language_info": {
   "codemirror_mode": {
    "name": "ipython",
    "version": 2
   },
   "file_extension": ".py",
   "mimetype": "text/x-python",
   "name": "python",
   "nbconvert_exporter": "python",
   "pygments_lexer": "ipython2",
   "version": "2.7.6"
  }
 },
 "nbformat": 4,
 "nbformat_minor": 5
}
