{
 "cells": [
  {
   "metadata": {},
   "cell_type": "markdown",
   "source": [
    "## Setup configuration file and parameters\n",
    "Prepare or chose a config file and set the parameters to your needs"
   ],
   "id": "ac36cc68a95fc3a5"
  },
  {
   "metadata": {
    "ExecuteTime": {
     "end_time": "2024-12-06T13:32:57.523555Z",
     "start_time": "2024-12-06T13:32:57.515637Z"
    }
   },
   "cell_type": "code",
   "source": [
    "## Since spicelib>1.1.2 leads to problematic behaviour please confirm the version\n",
    "from importlib.metadata import version\n",
    "print(version('PyLTSpice'))\n",
    "print(version('spicelib'))"
   ],
   "id": "b5821059038216a",
   "outputs": [
    {
     "name": "stdout",
     "output_type": "stream",
     "text": [
      "5.3.1\n",
      "1.1.2\n"
     ]
    }
   ],
   "execution_count": 2
  },
  {
   "cell_type": "code",
   "id": "a606aaac0eab153f",
   "metadata": {
    "collapsed": true,
    "ExecuteTime": {
     "end_time": "2024-12-06T13:34:57.810966Z",
     "start_time": "2024-12-06T13:34:57.807887Z"
    }
   },
   "source": [
    "import json\n",
    "from src.FunctionalValidation import FunctionalValidation\n",
    "from src.ControlLogicGenerator import ControlLogicGenerator\n",
    "from src.Simulator import Simulator\n",
    "from src.Plotter import Plotter\n",
    "from src.util import copy_pwm_files\n",
    "\n",
    "############## PARAMETERS ###################\n",
    "max_dev = 40    # Default 40\n",
    "dev_wf = 20     # Default 20\n",
    "fig_type = ['pdf', 'png', 'svg'][1]\n",
    "config_file = './configs/PPU1.json'\n",
    "\n",
    "with open(config_file, 'r') as f:\n",
    "    config = json.load(f)"
   ],
   "outputs": [],
   "execution_count": 6
  },
  {
   "metadata": {},
   "cell_type": "markdown",
   "source": "Verify the functionality of the algorithm and present a state history of each memristor:",
   "id": "4fd6c457bd0a2ae8"
  },
  {
   "metadata": {
    "ExecuteTime": {
     "end_time": "2024-12-06T13:35:00.334940Z",
     "start_time": "2024-12-06T13:35:00.331943Z"
    }
   },
   "cell_type": "code",
   "source": [
    "# Check if the algorithm is valid and the resulting states are correct\n",
    "Verifier = FunctionalValidation(config) \n",
    "Verifier.calc_algorithm(plot_tt=True)\n",
    "print(\"\\n--------------- Logic States verified! ---------------\\n\")"
   ],
   "id": "54772f8b7651af45",
   "outputs": [
    {
     "name": "stdout",
     "output_type": "stream",
     "text": [
      "\n",
      "--------------- Logic States verified! ---------------\n",
      "\n"
     ]
    }
   ],
   "execution_count": 7
  },
  {
   "metadata": {},
   "cell_type": "markdown",
   "source": [
    "## Automatically create PWM signals\n",
    "Instantiate a PWMWriter class, automatically write PWM files for the chosen algorithm in the defined topology, and temporary store them in the **PWM_output** \n",
    "folder for debugging:\n"
   ],
   "id": "47e12eab3ee99c30"
  },
  {
   "metadata": {
    "ExecuteTime": {
     "end_time": "2024-11-22T15:04:34.389314Z",
     "start_time": "2024-11-22T15:04:34.378523Z"
    }
   },
   "cell_type": "code",
   "source": [
    "# Automatically create PWM signals and store them in \"PWM_output\"\n",
    "CLG = ControlLogicGenerator(config)\n",
    "CLG.eval_algo()\n",
    "print(\"\\n--------------- PWM Signals created! ---------------\\n\")"
   ],
   "id": "949c146767ff1da0",
   "outputs": [
    {
     "name": "stdout",
     "output_type": "stream",
     "text": [
      "File ./outputs/PWM_output/a.csv created!\n",
      "File ./outputs/PWM_output/b.csv created!\n",
      "File ./outputs/PWM_output/c.csv created!\n",
      "File ./outputs/PWM_output/w1.csv created!\n",
      "File ./outputs/PWM_output/w2.csv created!\n",
      "File ./outputs/PWM_output/a_sw.csv created!\n",
      "File ./outputs/PWM_output/b_sw.csv created!\n",
      "File ./outputs/PWM_output/c_sw1.csv created!\n",
      "File ./outputs/PWM_output/c_sw2.csv created!\n",
      "File ./outputs/PWM_output/w1_sw1.csv created!\n",
      "File ./outputs/PWM_output/w1_sw2.csv created!\n",
      "File ./outputs/PWM_output/w2_sw1.csv created!\n",
      "File ./outputs/PWM_output/w2_sw2.csv created!\n",
      "PWM Files written successfully\n",
      "\n",
      "--------------- PWM Signals created! ---------------\n",
      "\n"
     ]
    }
   ],
   "execution_count": 4
  },
  {
   "metadata": {},
   "cell_type": "markdown",
   "source": "Overwrite the current algorithm in the chosen topology folder:",
   "id": "c223414282c8d70e"
  },
  {
   "metadata": {
    "ExecuteTime": {
     "end_time": "2024-11-22T15:04:38.886643Z",
     "start_time": "2024-11-22T15:04:38.836968Z"
    }
   },
   "cell_type": "code",
   "source": [
    "# Copy the files to the folder of the corresponding topology (This removes the old files !)\n",
    "copy_pwm_files(config, CLG.step_size)\n",
    "print(f\"\"\"\\n--------- Files of {config[\"topology\"]} topology overwritten! --------\\n\"\"\")"
   ],
   "id": "83a4b60d36af0067",
   "outputs": [
    {
     "name": "stdout",
     "output_type": "stream",
     "text": [
      "\n",
      "--------- Files of Semi-Serial topology overwritten! --------\n",
      "\n"
     ]
    }
   ],
   "execution_count": 5
  },
  {
   "metadata": {},
   "cell_type": "markdown",
   "source": [
    "## Illustrate the deviation experiments\n",
    "Instantiate a Plotter class in which the Simulator is embedded for convenience. \\\n",
    "The energy consumption is automatically calculated."
   ],
   "id": "6d0f5022718cb641"
  },
  {
   "metadata": {
    "ExecuteTime": {
     "end_time": "2024-11-22T15:04:51.167551Z",
     "start_time": "2024-11-22T15:04:41.467393Z"
    }
   },
   "cell_type": "code",
   "source": "PLT = Plotter(config)",
   "id": "74244a6fb0b4f5cd",
   "outputs": [
    {
     "name": "stdout",
     "output_type": "stream",
     "text": [
      "Calculating energy consumption:\n"
     ]
    },
    {
     "name": "stderr",
     "output_type": "stream",
     "text": [
      "100%|██████████| 8/8 [00:08<00:00,  1.02s/it]"
     ]
    },
    {
     "name": "stdout",
     "output_type": "stream",
     "text": [
      "Average Energy consumption: 1.7239985999999998e-09\n",
      "Energy over Combination: [1.1116853999999999e-09, 1.5245297999999998e-09, 1.4622498000000001e-09, 1.863126e-09, 1.5319817999999997e-09, 2.0664719999999996e-09, 1.871658e-09, 2.360286e-09]\n"
     ]
    },
    {
     "name": "stderr",
     "output_type": "stream",
     "text": [
      "\n"
     ]
    }
   ],
   "execution_count": 6
  },
  {
   "metadata": {},
   "cell_type": "markdown",
   "source": [
    "The three main plot options are:\n",
    "1) plot_deviation_scatter()\n",
    "2) plot_deviation_range()\n",
    "3) plot_waveforms_with_deviation()\n",
    "\n",
    "If the simulations have been run already (The files of the last simulation is stored in the folder **outputs**), the parameter **recompute** can be set **False**."
   ],
   "id": "2b8fd5a2e125530"
  },
  {
   "metadata": {},
   "cell_type": "code",
   "source": [
    "PLT.plot_deviation_scatter(max_dev=max_dev, recompute=True, fig_type=fig_type)\n",
    "PLT.plot_deviation_range(max_dev=max_dev, recompute=False, fig_type=fig_type, save_dev_range=True)\n",
    "print(f\"\\n--------- Deviation Experiments completed --------\\n\")"
   ],
   "id": "9734e2fbe1685f21",
   "outputs": [],
   "execution_count": null
  },
  {
   "metadata": {},
   "cell_type": "markdown",
   "source": "Create waveform images with deviation ranges for all input combinations with deviation **dev_wf**:",
   "id": "b8b95b5eed1bf3da"
  },
  {
   "metadata": {},
   "cell_type": "code",
   "source": [
    "for comb in range(2**len(config[\"inputs\"])):\n",
    "    comb_str = bin(comb)[2:].zfill(len(config[\"inputs\"]))\n",
    "    PLT.plot_waveforms_with_deviation(comb_str, dev=dev_wf, recompute=False, fig_type=fig_type)\n",
    "print(f\"\\n--------- Waveforms with deviation {dev_wf} saved --------\\n\")"
   ],
   "id": "79189c3aeaa377f4",
   "outputs": [],
   "execution_count": null
  },
  {
   "metadata": {},
   "cell_type": "markdown",
   "source": "Illustrate a single input combination with unique parameters:",
   "id": "34367ce47db7a8d0"
  },
  {
   "metadata": {},
   "cell_type": "code",
   "source": [
    "comb = '1010'\n",
    "dev = 20\n",
    "fig_type_s = 'png'\n",
    "recompute_s = True\n",
    "PLT.plot_waveforms_with_deviation(comb, dev=dev, recompute=recompute_s, fig_type=fig_type_s, plots_per_subfigure=4)"
   ],
   "id": "be3e9d3d50fad46d",
   "outputs": [],
   "execution_count": null
  },
  {
   "metadata": {},
   "cell_type": "markdown",
   "source": [
    "## Store the results\n",
    "Save created images and state deviation files in **OUTPUT_FILES**\n"
   ],
   "id": "a11ecf3d78112e38"
  },
  {
   "metadata": {},
   "cell_type": "code",
   "source": "PLT.save_algorithm_files(f\"\"\"{config[\"algorithm\"].split(\".\")[0]}\"\"\")",
   "id": "initial_id",
   "outputs": [],
   "execution_count": null
  }
 ],
 "metadata": {
  "kernelspec": {
   "display_name": "Python 3",
   "language": "python",
   "name": "python3"
  },
  "language_info": {
   "codemirror_mode": {
    "name": "ipython",
    "version": 2
   },
   "file_extension": ".py",
   "mimetype": "text/x-python",
   "name": "python",
   "nbconvert_exporter": "python",
   "pygments_lexer": "ipython2",
   "version": "2.7.6"
  }
 },
 "nbformat": 4,
 "nbformat_minor": 5
}
