{
 "cells": [
  {
   "metadata": {},
   "cell_type": "markdown",
   "source": [
    "## Setup configuration file and parameters\n",
    "Prepare or chose a config file and set the parameters to your needs"
   ],
   "id": "ac36cc68a95fc3a5"
  },
  {
   "cell_type": "code",
   "id": "a606aaac0eab153f",
   "metadata": {
    "collapsed": true,
    "ExecuteTime": {
     "end_time": "2024-08-09T14:18:47.611249Z",
     "start_time": "2024-08-09T14:18:45.764202Z"
    }
   },
   "source": [
    "import json\n",
    "from src.FunctionalValidation import FunctionalValidation\n",
    "from src.ControlLogicGenerator import ControlLogicGenerator\n",
    "from src.Simulator import Simulator\n",
    "from src.Plotter import Plotter\n",
    "from src.util import copy_pwm_files\n",
    "\n",
    "############## PARAMETERS ###################\n",
    "max_dev = 50    # Default 50\n",
    "dev_wf = 30     # Default 20\n",
    "fig_type = ['pdf', 'png', 'svg'][1]\n",
    "config_file = './configs/SSAx1.json'\n",
    "\n",
    "with open(config_file, 'r') as f:\n",
    "    config = json.load(f)"
   ],
   "outputs": [
    {
     "name": "stderr",
     "output_type": "stream",
     "text": [
      "C:\\Users\\Shype\\Desktop\\Paper in work\\[In Work] MASAM\\src\\Plotter.py:169: SyntaxWarning: invalid escape sequence '\\m'\n",
      "  axs[idx].set_xlabel(\"Time in $\\mu$s\", fontsize=24, labelpad=0)\n"
     ]
    }
   ],
   "execution_count": 1
  },
  {
   "metadata": {},
   "cell_type": "markdown",
   "source": "Verify the functionality of the algorithm and present a state history of each memristor:",
   "id": "4fd6c457bd0a2ae8"
  },
  {
   "metadata": {
    "ExecuteTime": {
     "end_time": "2024-08-09T14:18:55.383346Z",
     "start_time": "2024-08-09T14:18:55.371322Z"
    }
   },
   "cell_type": "code",
   "source": [
    "# Check if the algorithm is valid and the resulting states are correct\n",
    "Verifier = FunctionalValidation(config) \n",
    "Verifier.calc_algorithm(plot_tt=True)\n",
    "print(\"\\n--------------- Logic States verified! ---------------\\n\")"
   ],
   "id": "54772f8b7651af45",
   "outputs": [
    {
     "name": "stderr",
     "output_type": "stream",
     "text": [
      "2024-08-09 16:18:55,372 - Simulation - INFO - Initializing class LogicState\n",
      "2024-08-09 16:18:55,378 - Simulation - INFO - Applied Operations: ['F[w1]']\n",
      "2024-08-09 16:18:55,379 - Simulation - INFO - Applied Operations: ['F[w1]', 'I[b,w1]']\n",
      "2024-08-09 16:18:55,380 - Simulation - INFO - Applied Operations: ['F[w1]', 'I[b,w1]', 'I[a,w1]']\n",
      "2024-08-09 16:18:55,380 - Simulation - INFO - Applied Operations: ['F[w1]', 'I[b,w1]', 'I[a,w1]', 'F[a]', 'I[w1,c]']\n",
      "2024-08-09 16:18:55,381 - Simulation - INFO - Applied Operations: ['F[w1]', 'I[b,w1]', 'I[a,w1]', 'F[a]', 'I[w1,c]', 'I[c,a]', 'F[w1]']\n"
     ]
    },
    {
     "name": "stdout",
     "output_type": "stream",
     "text": [
      "#####################################\n",
      "Applied operations: ['F[w1]']\n",
      "a | b | c | w1|\n",
      "--------------------\n",
      "0 | 0 | 0 | 0\n",
      "0 | 0 | 1 | 0\n",
      "0 | 1 | 0 | 0\n",
      "0 | 1 | 1 | 0\n",
      "1 | 0 | 0 | 0\n",
      "1 | 0 | 1 | 0\n",
      "1 | 1 | 0 | 0\n",
      "1 | 1 | 1 | 0\n",
      "#####################################\n",
      "#####################################\n",
      "Applied operations: ['F[w1]', 'I[b,w1]']\n",
      "a | b | c | w1|\n",
      "--------------------\n",
      "0 | 0 | 0 | 1\n",
      "0 | 0 | 1 | 1\n",
      "0 | 1 | 0 | 0\n",
      "0 | 1 | 1 | 0\n",
      "1 | 0 | 0 | 1\n",
      "1 | 0 | 1 | 1\n",
      "1 | 1 | 0 | 0\n",
      "1 | 1 | 1 | 0\n",
      "#####################################\n",
      "#####################################\n",
      "Applied operations: ['F[w1]', 'I[b,w1]', 'I[a,w1]']\n",
      "a | b | c | w1|\n",
      "--------------------\n",
      "0 | 0 | 0 | 1\n",
      "0 | 0 | 1 | 1\n",
      "0 | 1 | 0 | 1\n",
      "0 | 1 | 1 | 1\n",
      "1 | 0 | 0 | 1\n",
      "1 | 0 | 1 | 1\n",
      "1 | 1 | 0 | 0\n",
      "1 | 1 | 1 | 0\n",
      "#####################################\n",
      "#####################################\n",
      "Applied operations: ['F[w1]', 'I[b,w1]', 'I[a,w1]', 'F[a]', 'I[w1,c]']\n",
      "a | b | c | w1|\n",
      "--------------------\n",
      "0 | 0 | 0 | 1\n",
      "0 | 0 | 1 | 1\n",
      "0 | 1 | 0 | 1\n",
      "0 | 1 | 1 | 1\n",
      "0 | 0 | 0 | 1\n",
      "0 | 0 | 1 | 1\n",
      "0 | 1 | 1 | 0\n",
      "0 | 1 | 1 | 0\n",
      "#####################################\n",
      "#####################################\n",
      "Applied operations: ['F[w1]', 'I[b,w1]', 'I[a,w1]', 'F[a]', 'I[w1,c]', 'I[c,a]', 'F[w1]']\n",
      "a | b | c | w1|\n",
      "--------------------\n",
      "1 | 0 | 0 | 0\n",
      "0 | 0 | 1 | 0\n",
      "1 | 1 | 0 | 0\n",
      "0 | 1 | 1 | 0\n",
      "1 | 0 | 0 | 0\n",
      "0 | 0 | 1 | 0\n",
      "0 | 1 | 1 | 0\n",
      "0 | 1 | 1 | 0\n",
      "#####################################\n",
      "Output sum is correctly stored in a\n",
      "Output cout is correctly stored in c\n",
      "\n",
      "--------------- Logic States verified! ---------------\n",
      "\n"
     ]
    }
   ],
   "execution_count": 2
  },
  {
   "metadata": {},
   "cell_type": "markdown",
   "source": [
    "## Automatically create PWM signals\n",
    "Instantiate a PWMWriter class, automatically write PWM files for the chosen algorithm in the defined topology, and temporary store them in the **PWM_output** \n",
    "folder for debugging:\n"
   ],
   "id": "47e12eab3ee99c30"
  },
  {
   "metadata": {
    "ExecuteTime": {
     "end_time": "2024-08-09T14:19:36.155820Z",
     "start_time": "2024-08-09T14:19:36.138422Z"
    }
   },
   "cell_type": "code",
   "source": [
    "# Automatically create PWM signals and store them in \"PWM_output\"\n",
    "CLG = ControlLogicGenerator(config)\n",
    "CLG.eval_algo()\n",
    "print(\"\\n--------------- PWM Signals created! ---------------\\n\")"
   ],
   "id": "949c146767ff1da0",
   "outputs": [
    {
     "name": "stderr",
     "output_type": "stream",
     "text": [
      "2024-08-09 16:19:36,140 - Simulation - INFO - Initializing PWM Writer\n",
      "2024-08-09 16:19:36,145 - Simulation - INFO - File ./outputs/PWM_output/a.csv created!\n",
      "2024-08-09 16:19:36,145 - Simulation - INFO - File ./outputs/PWM_output/b.csv created!\n",
      "2024-08-09 16:19:36,146 - Simulation - INFO - File ./outputs/PWM_output/c.csv created!\n",
      "2024-08-09 16:19:36,146 - Simulation - INFO - File ./outputs/PWM_output/w1.csv created!\n",
      "2024-08-09 16:19:36,147 - Simulation - INFO - File ./outputs/PWM_output/a_sw.csv created!\n",
      "2024-08-09 16:19:36,147 - Simulation - INFO - File ./outputs/PWM_output/b_sw.csv created!\n",
      "2024-08-09 16:19:36,148 - Simulation - INFO - File ./outputs/PWM_output/c_sw1.csv created!\n",
      "2024-08-09 16:19:36,148 - Simulation - INFO - File ./outputs/PWM_output/c_sw2.csv created!\n",
      "2024-08-09 16:19:36,149 - Simulation - INFO - File ./outputs/PWM_output/w1_sw1.csv created!\n",
      "2024-08-09 16:19:36,149 - Simulation - INFO - File ./outputs/PWM_output/w1_sw2.csv created!\n",
      "2024-08-09 16:19:36,154 - Simulation - INFO - PWM outputs written to files successfully\n"
     ]
    },
    {
     "name": "stdout",
     "output_type": "stream",
     "text": [
      "File ./outputs/PWM_output/a.csv created!\n",
      "File ./outputs/PWM_output/b.csv created!\n",
      "File ./outputs/PWM_output/c.csv created!\n",
      "File ./outputs/PWM_output/w1.csv created!\n",
      "File ./outputs/PWM_output/a_sw.csv created!\n",
      "File ./outputs/PWM_output/b_sw.csv created!\n",
      "File ./outputs/PWM_output/c_sw1.csv created!\n",
      "File ./outputs/PWM_output/c_sw2.csv created!\n",
      "File ./outputs/PWM_output/w1_sw1.csv created!\n",
      "File ./outputs/PWM_output/w1_sw2.csv created!\n",
      "PWM Files written successfully\n",
      "\n",
      "--------------- PWM Signals created! ---------------\n",
      "\n"
     ]
    }
   ],
   "execution_count": 3
  },
  {
   "metadata": {},
   "cell_type": "markdown",
   "source": "Overwrite the current algorithm in the chosen topology folder:",
   "id": "c223414282c8d70e"
  },
  {
   "metadata": {
    "ExecuteTime": {
     "end_time": "2024-08-09T14:19:46.236802Z",
     "start_time": "2024-08-09T14:19:46.194448Z"
    }
   },
   "cell_type": "code",
   "source": [
    "# Copy the files to the folder of the corresponding topology (This removes the old files !)\n",
    "copy_pwm_files(config, CLG.step_size)\n",
    "print(f\"\\n--------- Files of {config[\"topology\"]} topology overwritten! --------\\n\")"
   ],
   "id": "83a4b60d36af0067",
   "outputs": [
    {
     "name": "stdout",
     "output_type": "stream",
     "text": [
      "\n",
      "--------- Files of Semi-Serial topology overwritten! --------\n",
      "\n"
     ]
    }
   ],
   "execution_count": 4
  },
  {
   "metadata": {},
   "cell_type": "markdown",
   "source": [
    "## Illustrate the deviation experiments\n",
    "Instantiate a Plotter class in which the Simulator is embedded for convenience. \\\n",
    "The energy consumption is automatically calculated."
   ],
   "id": "6d0f5022718cb641"
  },
  {
   "metadata": {
    "ExecuteTime": {
     "end_time": "2024-08-09T14:20:01.862501Z",
     "start_time": "2024-08-09T14:19:53.657843Z"
    }
   },
   "cell_type": "code",
   "source": "PLT = Plotter(config)",
   "id": "74244a6fb0b4f5cd",
   "outputs": [
    {
     "name": "stderr",
     "output_type": "stream",
     "text": [
      "2024-08-09 16:19:53,658 - Simulation - INFO - Initializing Plotter\n",
      "2024-08-09 16:19:53,658 - Simulation - INFO - Initializing Simulator\n",
      "2024-08-09 16:19:53,674 - Simulation - INFO - Started calculating energy consumption\n"
     ]
    },
    {
     "name": "stdout",
     "output_type": "stream",
     "text": [
      "Calculating energy consumption:\n"
     ]
    },
    {
     "name": "stderr",
     "output_type": "stream",
     "text": [
      "100%|██████████| 8/8 [00:08<00:00,  1.02s/it]\n",
      "2024-08-09 16:20:01,860 - Simulation - INFO - Average Energy consumption: 1.7030169375e-09\n",
      "2024-08-09 16:20:01,860 - Simulation - INFO - Energy over Combinations: [9.67572e-10, 1.78572e-09, 1.2769785e-09, 2.0727900000000002e-09, 1.32051e-09, 2.116155e-09, 1.648965e-09, 2.435445e-09]\n"
     ]
    },
    {
     "name": "stdout",
     "output_type": "stream",
     "text": [
      "Average Energy consumption: 1.7030169375e-09\n",
      "Energy over Combination: [9.67572e-10, 1.78572e-09, 1.2769785e-09, 2.0727900000000002e-09, 1.32051e-09, 2.116155e-09, 1.648965e-09, 2.435445e-09]\n"
     ]
    }
   ],
   "execution_count": 5
  },
  {
   "metadata": {},
   "cell_type": "markdown",
   "source": [
    "The three main plot options are:\n",
    "1) plot_deviation_scatter()\n",
    "2) plot_deviation_range()\n",
    "3) plot_waveforms_with_deviation()\n",
    "\n",
    "If the simulations have been run already (The files of the last simulation is stored in the folder **outputs**), the parameter **recompute** can be set **False**."
   ],
   "id": "2b8fd5a2e125530"
  },
  {
   "metadata": {},
   "cell_type": "code",
   "source": [
    "PLT.plot_deviation_scatter(max_dev=max_dev, recompute=True, fig_type=fig_type)\n",
    "PLT.plot_deviation_range(max_dev=max_dev, recompute=False, fig_type=fig_type)\n",
    "print(f\"\\n--------- Deviation Experiments completed --------\\n\")"
   ],
   "id": "9734e2fbe1685f21",
   "outputs": [],
   "execution_count": null
  },
  {
   "metadata": {},
   "cell_type": "markdown",
   "source": "Create waveform images with deviation ranges for all input combinations with deviation **dev_wf**:",
   "id": "b8b95b5eed1bf3da"
  },
  {
   "metadata": {},
   "cell_type": "code",
   "source": [
    "for comb in range(8):\n",
    "    comb_str = bin(comb)[2:].zfill(3)\n",
    "    PLT.plot_waveforms_with_deviation(comb_str, dev=dev_wf, recompute=False, fig_type=fig_type)\n",
    "print(f\"\\n--------- Waveforms with deviation {dev_wf} saved --------\\n\")"
   ],
   "id": "79189c3aeaa377f4",
   "outputs": [],
   "execution_count": null
  },
  {
   "metadata": {},
   "cell_type": "markdown",
   "source": "Illustrate a single input combination with unique parameters:",
   "id": "34367ce47db7a8d0"
  },
  {
   "metadata": {},
   "cell_type": "code",
   "source": [
    "comb = '100'\n",
    "dev = 20\n",
    "fig_type_s = 'png'\n",
    "recompute_s = True\n",
    "PLT.plot_waveforms_with_deviation(comb, dev=dev, recompute=recompute_s, fig_type=fig_type_s, plots_per_subfigure=4)"
   ],
   "id": "be3e9d3d50fad46d",
   "outputs": [],
   "execution_count": null
  },
  {
   "metadata": {},
   "cell_type": "markdown",
   "source": [
    "## Store the results\n",
    "Save created images and state deviation files in **OUTPUT_FILES**\n"
   ],
   "id": "a11ecf3d78112e38"
  },
  {
   "metadata": {},
   "cell_type": "code",
   "outputs": [],
   "execution_count": 5,
   "source": "PLT.save_algorithm_files(f\"{config[\"algorithm\"].split(\".\")[0]}\")",
   "id": "initial_id"
  }
 ],
 "metadata": {
  "kernelspec": {
   "display_name": "Python 3",
   "language": "python",
   "name": "python3"
  },
  "language_info": {
   "codemirror_mode": {
    "name": "ipython",
    "version": 2
   },
   "file_extension": ".py",
   "mimetype": "text/x-python",
   "name": "python",
   "nbconvert_exporter": "python",
   "pygments_lexer": "ipython2",
   "version": "2.7.6"
  }
 },
 "nbformat": 4,
 "nbformat_minor": 5
}
